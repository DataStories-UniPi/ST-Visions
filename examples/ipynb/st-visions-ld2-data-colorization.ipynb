{
 "cells": [
  {
   "cell_type": "markdown",
   "metadata": {},
   "source": [
    "# Importing Essential Libraries"
   ]
  },
  {
   "cell_type": "code",
   "execution_count": null,
   "metadata": {},
   "outputs": [],
   "source": [
    "import sys, os\n",
    "\n",
    "import numpy as np\n",
    "import pandas as pd\n",
    "import geopandas as gpd\n",
    "\n",
    "from tqdm import tqdm"
   ]
  },
  {
   "cell_type": "code",
   "execution_count": null,
   "metadata": {},
   "outputs": [],
   "source": [
    "import bokeh.palettes as bokeh_palettes\n",
    "import bokeh.models as bokeh_models"
   ]
  },
  {
   "cell_type": "code",
   "execution_count": null,
   "metadata": {},
   "outputs": [],
   "source": [
    "from st_visualizer import st_visualizer\n",
    "import express as viz_express\n",
    "import geom_helper as viz_helper\n",
    "import callbacks"
   ]
  },
  {
   "cell_type": "markdown",
   "metadata": {},
   "source": [
    "# Defining Global Variables"
   ]
  },
  {
   "cell_type": "code",
   "execution_count": null,
   "metadata": {},
   "outputs": [],
   "source": [
    "NOTEBOOK_URL='http://<NOTEBOOK_IP_ADDRESS>:<NOTEBOOK_PORT>'"
   ]
  },
  {
   "cell_type": "markdown",
   "metadata": {},
   "source": [
    " * # Use-Case #1: Using **CategoricalColorMapper** for a **Single Feature**.\n",
    "   * ## NOTE: The Categorical Feature must be in String form"
   ]
  },
  {
   "cell_type": "markdown",
   "metadata": {},
   "source": [
    "# Loading Polygon Dataset"
   ]
  },
  {
   "cell_type": "code",
   "execution_count": null,
   "metadata": {},
   "outputs": [],
   "source": [
    "world_airports = pd.read_csv('data/csv/world_airports.csv')\n",
    "world_airports = viz_helper.getGeoDataFrame_v2(world_airports, coordinate_columns=['Longitude', 'Latitude'], crs='epsg:4326')\n",
    "\n",
    "''' For webmercator, when latitudes tend to 90 deg, northing tend to infinity, so using 89.9999 is not the solution. \n",
    "    The recommended area of use of EPSG:3857 is for latitudes between -85 and 85 degrees.\n",
    "    Thus, we get the locations that reside anywhere but the poles. '''\n",
    "\n",
    "world_airports = world_airports.loc[world_airports.Latitude.between(-85, 85)] "
   ]
  },
  {
   "cell_type": "code",
   "execution_count": null,
   "metadata": {},
   "outputs": [],
   "source": [
    "st_viz = st_visualizer(limit=500)\n",
    "st_viz.set_data(world_airports, sp_columns=['Longitude', 'Latitude'])\n",
    "\n",
    "st_viz.create_canvas(title=f'Prototype Plot', sizing_mode='scale_width', plot_height=540, tools=\"pan,box_zoom,lasso_select,wheel_zoom,previewsave,reset\")\n",
    "st_viz.add_map_tile('CARTODBPOSITRON')\n",
    "\n",
    "\n",
    "st_viz.add_categorical_colormap('Category20b', 'City_Country')\n",
    "plgn = st_viz.add_glyph(glyph_type='circle', fill_color=st_viz.cmap, line_color=st_viz.cmap, alpha=1, legend_group='City_Country')\n",
    "\n",
    "\n",
    "tooltips = [('Name','@Name'), ('City Country','@City_Country'), ('IATA','@IATA'), ('Location','(@Longitude, @Latitude, @Altitude)'), ('Timezone', '@Timezone.1')]\n",
    "st_viz.add_hover_tooltips(tooltips)\n",
    "st_viz.add_lasso_select()\n",
    "\n",
    "st_viz.figure.legend.location = \"top_left\"\n",
    "st_viz.figure.legend.click_policy = \"mute\"\n",
    "st_viz.figure.toolbar.active_scroll = st_viz.figure.select_one(bokeh_models.WheelZoomTool)\n",
    "\n",
    "st_viz.show_figures(notebook=True, notebook_url=NOTEBOOK_URL)"
   ]
  },
  {
   "cell_type": "markdown",
   "metadata": {},
   "source": [
    "## For Instance, observe that in order to effectively vizualize the - integer - categorigal feature ``mmsi``, its values had to be casted into String format prior to Mapping."
   ]
  },
  {
   "cell_type": "code",
   "execution_count": null,
   "metadata": {},
   "outputs": [],
   "source": [
    "st_viz = st_visualizer(limit=500)\n",
    "\n",
    "st_viz.get_data_csv(filepath='./data/csv/ais_brest_2015-2016.csv', nrows=30000)\n",
    "st_viz.data.loc[:, 'mmsi'] = st_viz.data.mmsi.astype(str)\n",
    "\n",
    "st_viz.create_canvas(title=f'Prototype Plot', sizing_mode='scale_width', plot_width=540, plot_height=540, tools=\"pan,box_zoom,lasso_select,wheel_zoom,previewsave,reset\")\n",
    "st_viz.add_map_tile('CARTODBPOSITRON')\n",
    "\n",
    "st_viz.add_categorical_colormap(palette=bokeh_palettes.Category10_3, categorical_name='mmsi')\n",
    "circ = st_viz.add_glyph(glyph_type='circle', size=10, color=st_viz.cmap, alpha=0.8, fill_alpha=0.7, muted_alpha=0, legend_group=f'mmsi')\n",
    "\n",
    "tooltips = [('Vessel ID','@mmsi'), ('Timestamp','@ts'), ('Speed (knots)','@speed'),('Course over Ground (degrees)','@course'), ('Heading (degrees)','@heading'), ('Coordinates','(@lon, @lat)')]\n",
    "st_viz.add_hover_tooltips(tooltips)\n",
    "st_viz.add_lasso_select()\n",
    "\n",
    "st_viz.figure.legend.location = \"top_left\"\n",
    "st_viz.figure.legend.click_policy = \"mute\"\n",
    "st_viz.figure.toolbar.active_scroll = st_viz.figure.select_one(bokeh_models.WheelZoomTool)\n",
    "\n",
    "st_viz.show_figures(notebook=True, notebook_url=NOTEBOOK_URL)"
   ]
  },
  {
   "cell_type": "markdown",
   "metadata": {},
   "source": [
    "# In order to colormap numeric features like ``speed``, use LinearColorMapper"
   ]
  },
  {
   "cell_type": "code",
   "execution_count": null,
   "metadata": {},
   "outputs": [],
   "source": [
    "st_viz = st_visualizer(limit=500)\n",
    "st_viz.get_data_csv(filepath='./data/csv/ais_brest_2015-2016.csv', nrows=30000)\n",
    "\n",
    "st_viz.create_canvas(title=f'Prototype Plot', sizing_mode='scale_width', plot_height=540, tools=\"pan,box_zoom,lasso_select,wheel_zoom,previewsave,reset\")\n",
    "st_viz.add_map_tile('CARTODBPOSITRON')\n",
    "\n",
    "\n",
    "st_viz.add_numerical_colormap('Viridis256', 'speed', colorbar=True, cb_orientation='vertical', cb_location='right', label_standoff=12, border_line_color=None, location=(0,0))\n",
    "circ = st_viz.add_glyph(glyph_type='circle', size=10, color=st_viz.cmap, alpha=0.8, fill_alpha=0.7, muted_alpha=0, legend_label=f'Speed Heatmap')\n",
    "\n",
    "\n",
    "tooltips = [('Vessel ID','@mmsi'), ('Timestamp','@ts'), ('Speed (knots)','@speed'),('Course over Ground (degrees)','@course'), ('Heading (degrees)','@heading'), ('Coordinates','(@lon, @lat)')]\n",
    "st_viz.add_hover_tooltips(tooltips)\n",
    "st_viz.add_lasso_select()\n",
    "\n",
    "st_viz.figure.legend.location = \"top_left\"\n",
    "st_viz.figure.legend.click_policy = \"mute\"\n",
    "st_viz.figure.toolbar.active_scroll = st_viz.figure.select_one(bokeh_models.WheelZoomTool)\n",
    "\n",
    "st_viz.show_figures(notebook=True, notebook_url=NOTEBOOK_URL)"
   ]
  },
  {
   "cell_type": "markdown",
   "metadata": {},
   "source": [
    "# Testing Colormaps & Filters Interaction"
   ]
  },
  {
   "cell_type": "markdown",
   "metadata": {},
   "source": [
    "* #### Numerical Colormap Example"
   ]
  },
  {
   "cell_type": "code",
   "execution_count": null,
   "metadata": {},
   "outputs": [],
   "source": [
    "st_viz = st_visualizer(limit=500)\n",
    "st_viz.get_data_csv(filepath='./data/csv/ais_brest_2015-2016.csv', nrows=30000)\n",
    "\n",
    "st_viz.create_canvas(title=f'Prototype Plot', sizing_mode='scale_width', plot_height=540, tools=\"pan,box_zoom,lasso_select,wheel_zoom,previewsave,reset\")\n",
    "st_viz.add_map_tile('CARTODBPOSITRON')\n",
    "\n",
    "\n",
    "st_viz.add_numerical_colormap('Viridis256', 'speed', colorbar=True, cb_orientation='vertical', cb_location='right', label_standoff=12, border_line_color=None, location=(0,0))\n",
    "st_viz.add_glyph(glyph_type='circle', size=10, color=st_viz.cmap, alpha=0.8, fill_alpha=0.7, muted_alpha=0, legend_label=f'GPS Locations (Speed Heatmap)')\n",
    "st_viz.add_temporal_filter(callback_policy='value')\n",
    "\n",
    "\n",
    "tooltips = [('Vessel ID','@mmsi'), ('Timestamp','@ts'), ('Speed (knots)','@speed'),('Course over Ground (degrees)','@course'), ('Heading (degrees)','@heading'), ('Coordinates','(@lon, @lat)')]\n",
    "st_viz.add_hover_tooltips(tooltips)\n",
    "st_viz.add_lasso_select()\n",
    "\n",
    "st_viz.figure.legend.location = \"top_left\"\n",
    "st_viz.figure.legend.click_policy = \"mute\"\n",
    "st_viz.figure.toolbar.active_scroll = st_viz.figure.select_one(bokeh_models.WheelZoomTool)\n",
    "\n",
    "st_viz.show_figures(notebook=True, notebook_url=NOTEBOOK_URL)"
   ]
  },
  {
   "cell_type": "markdown",
   "metadata": {},
   "source": [
    "* #### Categorical Colormap Example"
   ]
  },
  {
   "cell_type": "code",
   "execution_count": null,
   "metadata": {},
   "outputs": [],
   "source": [
    "st_viz = st_visualizer(limit=500)\n",
    "st_viz.get_data_csv(filepath='./data/csv/ais_brest_2015-2016.csv', nrows=50000)\n",
    "\n",
    "st_viz.data.loc[:, 'mmsi'] = st_viz.data.mmsi.astype(str)\n",
    "# st_viz.data = st_viz.data.loc[st_viz.data.mmsi.isin(st_viz.data.mmsi.unique()[:20])]\n",
    "\n",
    "st_viz.create_canvas(title=f'Prototype Plot', sizing_mode='scale_width', plot_height=540, tools=\"pan,box_zoom,lasso_select,wheel_zoom,previewsave,reset\")\n",
    "st_viz.add_map_tile('CARTODBPOSITRON')\n",
    "\n",
    "\n",
    "st_viz.add_categorical_colormap(palette=bokeh_palettes.Category20c_20, categorical_name='mmsi')\n",
    "st_viz.add_glyph(glyph_type='circle', size=10, color=st_viz.cmap, alpha=0.8, fill_alpha=0.7, muted_alpha=0, legend_field=f'mmsi')\n",
    "st_viz.add_temporal_filter(callback_policy='value', step_ms=1000)\n",
    "\n",
    "tooltips = [('Vessel ID','@mmsi'), ('Timestamp','@ts'), ('Speed (knots)','@speed'),('Course over Ground (degrees)','@course'), ('Heading (degrees)','@heading'), ('Coordinates','(@lon, @lat)')]\n",
    "st_viz.add_hover_tooltips(tooltips)\n",
    "st_viz.add_lasso_select()\n",
    "\n",
    "st_viz.figure.legend.location = \"top_left\"\n",
    "st_viz.figure.legend.click_policy = \"mute\"\n",
    "st_viz.figure.toolbar.active_scroll = st_viz.figure.select_one(bokeh_models.WheelZoomTool)\n",
    "\n",
    "st_viz.show_figures(notebook=True, notebook_url=NOTEBOOK_URL)"
   ]
  },
  {
   "cell_type": "code",
   "execution_count": null,
   "metadata": {},
   "outputs": [],
   "source": []
  }
 ],
 "metadata": {
  "kernelspec": {
   "display_name": "Python (MDA)",
   "language": "python",
   "name": "mda"
  },
  "language_info": {
   "codemirror_mode": {
    "name": "ipython",
    "version": 3
   },
   "file_extension": ".py",
   "mimetype": "text/x-python",
   "name": "python",
   "nbconvert_exporter": "python",
   "pygments_lexer": "ipython3",
   "version": "3.7.6"
  }
 },
 "nbformat": 4,
 "nbformat_minor": 4
}

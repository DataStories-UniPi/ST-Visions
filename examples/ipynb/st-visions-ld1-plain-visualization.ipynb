{
 "cells": [
  {
   "cell_type": "markdown",
   "metadata": {},
   "source": [
    "# Importing Essential Libraries"
   ]
  },
  {
   "cell_type": "code",
   "execution_count": null,
   "metadata": {},
   "outputs": [],
   "source": [
    "import sys, os\n",
    "\n",
    "import numpy as np\n",
    "import pandas as pd\n",
    "import geopandas as gpd\n",
    "import shapely"
   ]
  },
  {
   "cell_type": "code",
   "execution_count": null,
   "metadata": {},
   "outputs": [],
   "source": [
    "from st_visualizer import st_visualizer\n",
    "import callbacks\n",
    "import express as viz_express\n",
    "import geom_helper as viz_helper"
   ]
  },
  {
   "cell_type": "code",
   "execution_count": null,
   "metadata": {},
   "outputs": [],
   "source": [
    "import bokeh.models as bokeh_models"
   ]
  },
  {
   "cell_type": "markdown",
   "metadata": {},
   "source": [
    "# Defining Global Variables"
   ]
  },
  {
   "cell_type": "code",
   "execution_count": null,
   "metadata": {},
   "outputs": [],
   "source": [
    "NOTEBOOK_URL='http://<NOTEBOOK_IP_ADDRESS>:<NOTEBOOK_PORT>'"
   ]
  },
  {
   "cell_type": "markdown",
   "metadata": {},
   "source": [
    "  * # Visualizing a Simple Geometry Dataset"
   ]
  },
  {
   "cell_type": "code",
   "execution_count": null,
   "metadata": {},
   "outputs": [],
   "source": [
    "st_viz = st_visualizer(limit=500)\n",
    "st_viz.get_data_csv(filepath='./data/csv/ais_brest_2015-2016.csv', nrows=30000)\n",
    "\n",
    "st_viz.create_canvas(title=f'Prototype Plot', sizing_mode='scale_width', plot_height=540, tools=\"pan,box_zoom,lasso_select,wheel_zoom,previewsave,reset\")\n",
    "\n",
    "st_viz.add_map_tile('CARTODBPOSITRON')\n",
    "circ = st_viz.add_glyph(glyph_type='circle', size=10, color='royalblue', alpha=0.7, fill_alpha=0.5, muted_alpha=0, legend_label=f'Vessel GPS Locations')\n",
    "\n",
    "tooltips = [('Vessel ID','@mmsi'), ('Timestamp','@ts'), ('Speed (knots)','@speed'),('Course over Ground (degrees)','@course'), ('Heading (degrees)','@heading'), ('Coordinates','(@lon, @lat)')]\n",
    "st_viz.add_hover_tooltips(tooltips)\n",
    "st_viz.add_lasso_select()\n",
    "\n",
    "st_viz.figure.legend.location = \"top_left\"\n",
    "st_viz.figure.legend.click_policy = \"mute\"\n",
    "st_viz.figure.toolbar.active_scroll = st_viz.figure.select_one(bokeh_models.WheelZoomTool)\n",
    "\n",
    "st_viz.show_figures(notebook=True, notebook_url=NOTEBOOK_URL)"
   ]
  },
  {
   "cell_type": "code",
   "execution_count": null,
   "metadata": {},
   "outputs": [],
   "source": []
  },
  {
   "cell_type": "markdown",
   "metadata": {},
   "source": [
    "### (ADVANCED) Responsive Canvas"
   ]
  },
  {
   "cell_type": "code",
   "execution_count": null,
   "metadata": {},
   "outputs": [],
   "source": [
    "st_viz = st_visualizer(limit=500)\n",
    "st_viz.get_data_csv(filepath='./data/csv/ais_brest_2015-2016.csv', nrows=30000)\n",
    "\n",
    "st_viz.create_canvas(title=f'Prototype Plot', sizing_mode='stretch_width', plot_height=540, tools=\"pan,box_zoom,lasso_select,wheel_zoom,previewsave,reset\")\n",
    "\n",
    "st_viz.add_map_tile('CARTODBPOSITRON')\n",
    "circ = st_viz.add_glyph(glyph_type='circle', size=10, color='royalblue', alpha=0.7, fill_alpha=0.5, muted_alpha=0, legend_label=f'Vessel GPS Locations')\n",
    "\n",
    "tooltips = [('Vessel ID','@mmsi'), ('Timestamp','@ts'), ('Speed (knots)','@speed'),('Course over Ground (degrees)','@course'), ('Heading (degrees)','@heading'), ('Coordinates','(@lon, @lat)')]\n",
    "st_viz.add_hover_tooltips(tooltips)\n",
    "st_viz.add_lasso_select()\n",
    "\n",
    "st_viz.figure.legend.location = \"top_left\"\n",
    "st_viz.figure.legend.click_policy = \"mute\"\n",
    "st_viz.figure.toolbar.active_scroll = st_viz.figure.select_one(bokeh_models.WheelZoomTool)\n",
    "\n",
    "st_viz.show_figures(notebook=True, notebook_url=NOTEBOOK_URL, sizing_mode='stretch_both')"
   ]
  },
  {
   "cell_type": "code",
   "execution_count": null,
   "metadata": {},
   "outputs": [],
   "source": []
  },
  {
   "cell_type": "markdown",
   "metadata": {},
   "source": [
    "  * # Adding Filters\n",
    "    * #### Temporal Filter"
   ]
  },
  {
   "cell_type": "code",
   "execution_count": null,
   "metadata": {},
   "outputs": [],
   "source": [
    "st_viz = st_visualizer(limit=500)\n",
    "st_viz.get_data_csv(filepath='./data/csv/ais_brest_2015-2016.csv', nrows=30000)\n",
    "\n",
    "tooltips = [('Vessel ID','@mmsi'), ('Timestamp','@ts'), ('Speed (knots)','@speed'),\n",
    "            ('Course over Ground (degrees)','@course'), ('Heading (degrees)','@heading'), ('Coordinates','(@lon, @lat)')]\n",
    "\n",
    "viz_express.plot_points_on_map(st_viz, tools=['lasso_select'], tooltips=tooltips)\n",
    "\n",
    "st_viz.add_temporal_filter(temporal_name='ts', temporal_unit='s', step_ms=500, title='Temporal Horizon')\n",
    "\n",
    "st_viz.show_figures(notebook=True, notebook_url=NOTEBOOK_URL)"
   ]
  },
  {
   "cell_type": "markdown",
   "metadata": {},
   "source": [
    "  * #### Numerical Filter (range)"
   ]
  },
  {
   "cell_type": "code",
   "execution_count": null,
   "metadata": {},
   "outputs": [],
   "source": [
    "st_viz = st_visualizer(limit=500)\n",
    "st_viz.get_data_csv(filepath='./data/csv/ais_brest_2015-2016.csv', nrows=30000)\n",
    "\n",
    "tooltips = [('Vessel ID','@mmsi'), ('Timestamp','@ts'), ('Speed (knots)','@speed'),\n",
    "            ('Course over Ground (degrees)','@course'), ('Heading (degrees)','@heading'), ('Coordinates','(@lon, @lat)')]\n",
    "\n",
    "viz_express.plot_points_on_map(st_viz, tools=['lasso_select'], tooltips=tooltips)\n",
    "\n",
    "st_viz.add_numerical_filter(filter_mode='range', title='Speed (knots)', numeric_name='velocity', step=1)\n",
    "\n",
    "st_viz.show_figures(notebook=True, notebook_url=NOTEBOOK_URL)"
   ]
  },
  {
   "cell_type": "markdown",
   "metadata": {},
   "source": [
    "  * #### Numerical Filter (>=)"
   ]
  },
  {
   "cell_type": "code",
   "execution_count": null,
   "metadata": {},
   "outputs": [],
   "source": [
    "st_viz = st_visualizer(limit=500)\n",
    "st_viz.get_data_csv(filepath='./data/csv/ais_brest_2015-2016.csv', nrows=30000)\n",
    "\n",
    "tooltips = [('Vessel ID','@mmsi'), ('Timestamp','@ts'), ('Speed (knots)','@speed'),\n",
    "            ('Course over Ground (degrees)','@course'), ('Heading (degrees)','@heading'), ('Coordinates','(@lon, @lat)')]\n",
    "\n",
    "viz_express.plot_points_on_map(st_viz, tools=['lasso_select'], tooltips=tooltips)\n",
    "\n",
    "st_viz.add_numerical_filter(filter_mode='>=', title='Speed (knots) >=', numeric_name='velocity', step=1)\n",
    "\n",
    "st_viz.show_figures(notebook=True, notebook_url=NOTEBOOK_URL)"
   ]
  },
  {
   "cell_type": "markdown",
   "metadata": {},
   "source": [
    "  * #### Categorical"
   ]
  },
  {
   "cell_type": "code",
   "execution_count": null,
   "metadata": {},
   "outputs": [],
   "source": [
    "glife = pd.read_csv('./data/csv/geolife_trips_cleaned_v2_china_subset.csv', nrows=50000)\n",
    "glife = viz_helper.getGeoDataFrame_v2(glife, crs='epsg:4326')\n",
    "\n",
    "st_viz = st_visualizer(limit=500)\n",
    "st_viz.set_data(glife)\n",
    "\n",
    "tooltips = [('User ID','@user_id'), ('Vehicle','@label')]\n",
    "\n",
    "viz_express.plot_points_on_map(st_viz, tools=['lasso_select'], tooltips=tooltips)\n",
    "\n",
    "\n",
    "st_viz.add_categorical_filter(title='Vehicle', categorical_name='label')\n",
    "\n",
    "st_viz.show_figures(notebook=True, notebook_url=NOTEBOOK_URL)"
   ]
  },
  {
   "cell_type": "code",
   "execution_count": null,
   "metadata": {},
   "outputs": [],
   "source": []
  },
  {
   "cell_type": "markdown",
   "metadata": {},
   "source": [
    "# A Note Towards Filter Interaction"
   ]
  },
  {
   "cell_type": "code",
   "execution_count": null,
   "metadata": {},
   "outputs": [],
   "source": [
    "world_airports = pd.read_csv('data/csv/world_airports.csv')\n",
    "world_airports = viz_helper.getGeoDataFrame_v2(world_airports, coordinate_columns=['Longitude', 'Latitude'], crs='epsg:4326')\n",
    "\n",
    "''' For webmercator, when latitudes tend to 90 deg, northing tend to infinity, so using 89.9999 is not the solution. \n",
    "    The recommended area of use of EPSG:3857 is for latitudes between -85 and 85 degrees.\n",
    "    Thus, we get the locations that reside anywhere but the poles. '''\n",
    "\n",
    "world_airports = world_airports.loc[world_airports.Latitude.between(-85, 85)].copy()\n",
    "world_airports = world_airports.loc[world_airports.Altitude >= 0].copy()"
   ]
  },
  {
   "cell_type": "code",
   "execution_count": null,
   "metadata": {},
   "outputs": [],
   "source": [
    "st_viz = st_visualizer(limit=500)\n",
    "st_viz.set_data(world_airports, sp_columns=['Longitude', 'Latitude'])\n",
    "\n",
    "tooltips = [('Name','@Name'), ('City Country','@City_Country'), ('IATA','@IATA'), ('Location','(@Longitude, @Latitude, @Altitude)'), ('Timezone', '@Timezone.1')]\n",
    "viz_express.plot_points_on_map(st_viz, size=5, tools=['hover,lasso_select'], tooltips=tooltips)\n",
    "\n",
    "st_viz.add_categorical_filter()\n",
    "st_viz.add_numerical_filter(filter_mode='>=', callback_policy='value_throttled')\n",
    "\n",
    "st_viz.figure.legend.location = \"top_left\"\n",
    "st_viz.figure.legend.click_policy = \"mute\"\n",
    "st_viz.figure.toolbar.active_scroll = st_viz.figure.select_one(bokeh_models.WheelZoomTool)\n",
    "\n",
    "st_viz.show_figures(notebook=True, notebook_url=NOTEBOOK_URL)"
   ]
  },
  {
   "cell_type": "code",
   "execution_count": null,
   "metadata": {},
   "outputs": [],
   "source": []
  },
  {
   "cell_type": "markdown",
   "metadata": {},
   "source": [
    "# Α Note Towards (Multi)Polygon Visualization"
   ]
  },
  {
   "cell_type": "code",
   "execution_count": null,
   "metadata": {},
   "outputs": [],
   "source": [
    "url = 'http://polygons.openstreetmap.fr/get_geojson.py?id=9135811&params=0'\n",
    "saronikos = gpd.read_file(url)\n",
    "saronikos.loc[:, saronikos.geometry.name] = saronikos.geometry.apply(lambda l: l[0])\n",
    "\n",
    "geom = saronikos.geometry[0]\n",
    "geom_final = geom[0]\n",
    "\n",
    "geom_final = shapely.geometry.Polygon(geom_final.exterior.coords, [inner.exterior.coords for inner in geom[1:]])\n",
    "\n",
    "saronikos_gulf = saronikos.copy()\n",
    "saronikos_gulf.loc[:, saronikos_gulf.geometry.name] = geom_final"
   ]
  },
  {
   "cell_type": "markdown",
   "metadata": {},
   "source": [
    "  * ## Visualizing Simple Polygons"
   ]
  },
  {
   "cell_type": "code",
   "execution_count": null,
   "metadata": {},
   "outputs": [],
   "source": [
    "st_viz = st_visualizer(allow_complex_geometries=False)\n",
    "st_viz.set_data(saronikos_gulf)\n",
    "\n",
    "viz_express.plot_polygons_on_map(st_viz, polygon_type='patches')\n",
    "\n",
    "st_viz.show_figures(notebook=True, notebook_url=NOTEBOOK_URL)"
   ]
  },
  {
   "cell_type": "markdown",
   "metadata": {},
   "source": [
    "  * ## Visualizing Complex Geometries"
   ]
  },
  {
   "cell_type": "code",
   "execution_count": null,
   "metadata": {},
   "outputs": [],
   "source": [
    "st_viz = st_visualizer(allow_complex_geometries=True)\n",
    "st_viz.set_data(saronikos_gulf)\n",
    "\n",
    "viz_express.plot_polygons_on_map(st_viz, polygon_type='multi_polygons')\n",
    "\n",
    "st_viz.show_figures(notebook=True, notebook_url=NOTEBOOK_URL)"
   ]
  },
  {
   "cell_type": "code",
   "execution_count": null,
   "metadata": {},
   "outputs": [],
   "source": []
  }
 ],
 "metadata": {
  "kernelspec": {
   "display_name": "Python (MDA)",
   "language": "python",
   "name": "mda"
  },
  "language_info": {
   "codemirror_mode": {
    "name": "ipython",
    "version": 3
   },
   "file_extension": ".py",
   "mimetype": "text/x-python",
   "name": "python",
   "nbconvert_exporter": "python",
   "pygments_lexer": "ipython3",
   "version": "3.7.6"
  }
 },
 "nbformat": 4,
 "nbformat_minor": 4
}

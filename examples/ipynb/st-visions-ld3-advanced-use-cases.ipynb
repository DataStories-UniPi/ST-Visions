{
 "cells": [
  {
   "cell_type": "markdown",
   "metadata": {},
   "source": [
    "# Importing Essential Libraries"
   ]
  },
  {
   "cell_type": "code",
   "execution_count": 1,
   "metadata": {},
   "outputs": [],
   "source": [
    "import os, sys\n",
    "import pandas as pd\n",
    "import geopandas as gpd\n",
    "import shapely\n",
    "import datetime\n",
    "import numpy as np\n",
    "from tqdm import tqdm\n",
    "from datetime import datetime"
   ]
  },
  {
   "cell_type": "code",
   "execution_count": 2,
   "metadata": {},
   "outputs": [],
   "source": [
    "import bokeh as bkh\n",
    "import bokeh.models as bkhm\n",
    "import bokeh.palettes as bokeh_palettes\n",
    "import bokeh.colors as bokeh_colors"
   ]
  },
  {
   "cell_type": "code",
   "execution_count": 3,
   "metadata": {},
   "outputs": [],
   "source": [
    "from st_visualizer import st_visualizer\n",
    "import express as viz_express\n",
    "import geom_helper as viz_helper\n",
    "import callbacks"
   ]
  },
  {
   "cell_type": "code",
   "execution_count": 4,
   "metadata": {},
   "outputs": [],
   "source": [
    "pd.set_option('display.expand_frame_repr', False)\n",
    "\n",
    "pd.set_option('display.max_rows', 10)\n",
    "pd.set_option('display.max_columns', None)\n",
    "pd.set_option('display.width', None)\n",
    "pd.set_option('display.max_colwidth', None)"
   ]
  },
  {
   "cell_type": "markdown",
   "metadata": {},
   "source": [
    "# Defining Global Variables"
   ]
  },
  {
   "cell_type": "code",
   "execution_count": 5,
   "metadata": {},
   "outputs": [],
   "source": [
    "NOTEBOOK_URL='http://<NOTEBOOK_IP_ADDRESS>:<NOTEBOOK_PORT>'"
   ]
  },
  {
   "cell_type": "markdown",
   "metadata": {},
   "source": [
    "  * ### Loading GeoLife Dataset"
   ]
  },
  {
   "cell_type": "code",
   "execution_count": null,
   "metadata": {},
   "outputs": [],
   "source": [
    "gdf = pd.read_csv('./data/csv/geolife_trips_cleaned_v2_china_subset.csv', nrows=50000)\n",
    "gdf = viz_helper.getGeoDataFrame_v2(gdf, crs='epsg:4326')"
   ]
  },
  {
   "cell_type": "markdown",
   "metadata": {},
   "source": [
    "  * ### Creating Choropleth (Grid) Geometry"
   ]
  },
  {
   "cell_type": "code",
   "execution_count": null,
   "metadata": {},
   "outputs": [],
   "source": [
    "bbox = np.array(gdf.total_bounds)\n",
    "\n",
    "p1 = shapely.geometry.Point(bbox[0], bbox[3])\n",
    "p2 = shapely.geometry.Point(bbox[2], bbox[3])\n",
    "p3 = shapely.geometry.Point(bbox[2], bbox[1])\n",
    "p4 = shapely.geometry.Point(bbox[0], bbox[1])\n",
    "\n",
    "np1 = (p1.coords.xy[0][0], p1.coords.xy[1][0])\n",
    "np2 = (p2.coords.xy[0][0], p2.coords.xy[1][0])\n",
    "np3 = (p3.coords.xy[0][0], p3.coords.xy[1][0])\n",
    "np4 = (p4.coords.xy[0][0], p4.coords.xy[1][0])\n",
    "\n",
    "spatial_coverage = gpd.GeoDataFrame(gpd.GeoSeries(shapely.geometry.Polygon([np1, np2, np3, np4])), columns=['geom'], geometry='geom',  crs='epsg:4326')\n",
    "spatial_coverage_cut = viz_helper.quadrat_cut_geometry(spatial_coverage, 0.7)\n",
    "spatial_coverage_cut = gpd.GeoDataFrame(np.array(list(spatial_coverage_cut)).reshape(-1,1), geometry=0, crs='epsg:4326')"
   ]
  },
  {
   "cell_type": "markdown",
   "metadata": {},
   "source": [
    "  * ### Classifying Area Proximity (i.e., Populate the Choropleth Map)"
   ]
  },
  {
   "cell_type": "code",
   "execution_count": null,
   "metadata": {},
   "outputs": [],
   "source": [
    "cnt = viz_helper.classify_area_proximity(gdf.copy(), spatial_coverage_cut, compensate=True, verbose=True).area_id.value_counts()\n",
    "\n",
    "spatial_coverage_cut.loc[cnt.index, 'count'] = cnt.values\n",
    "spatial_coverage_cut.rename({0:'geom'}, axis=1, inplace=True)\n",
    "spatial_coverage_cut.set_geometry('geom', inplace=True)"
   ]
  },
  {
   "cell_type": "markdown",
   "metadata": {},
   "source": [
    "# 1. Simple Choropleth Map"
   ]
  },
  {
   "cell_type": "code",
   "execution_count": null,
   "metadata": {},
   "outputs": [],
   "source": [
    "st_viz = st_visualizer(limit=len(spatial_coverage_cut))\n",
    "st_viz.set_data(spatial_coverage_cut.dropna())\n",
    "\n",
    "st_viz.create_canvas(title=f'Prototype Plot', sizing_mode='scale_width', plot_height=540, tools=\"pan,box_zoom,lasso_select,wheel_zoom,previewsave,reset\")\n",
    "st_viz.add_map_tile('CARTODBPOSITRON')\n",
    "\n",
    "st_viz.add_numerical_colormap('Viridis256', 'count', colorbar=True, cb_orientation='vertical', cb_location='right', label_standoff=12, border_line_color=None, location=(0,0))\n",
    "st_viz.add_polygon(fill_color=st_viz.cmap, line_color=st_viz.cmap, fill_alpha=0.6, muted_alpha=0, legend_label=f'GPS Locations (Choropleth Map)')\n",
    "\n",
    "st_viz.figure.legend.location = \"top_left\"\n",
    "st_viz.figure.legend.click_policy = \"mute\"\n",
    "st_viz.figure.toolbar.active_scroll = st_viz.figure.select_one(bkhm.WheelZoomTool)\n",
    "\n",
    "st_viz.show_figures(notebook=True, notebook_url=NOTEBOOK_URL)"
   ]
  },
  {
   "cell_type": "code",
   "execution_count": null,
   "metadata": {},
   "outputs": [],
   "source": []
  },
  {
   "cell_type": "markdown",
   "metadata": {},
   "source": [
    "# 2. (Advanced) Integrating Filters to Choropleth Map"
   ]
  },
  {
   "cell_type": "markdown",
   "metadata": {},
   "source": [
    "### Create a VISIONS instance for the Choropleth plot (main canvas)"
   ]
  },
  {
   "cell_type": "code",
   "execution_count": null,
   "metadata": {},
   "outputs": [],
   "source": [
    "st_viz = st_visualizer(limit=len(spatial_coverage_cut))\n",
    "st_viz.set_data(spatial_coverage_cut)\n",
    "\n",
    "st_viz.create_canvas(title=f'Prototype Plot', sizing_mode='scale_width', plot_height=540, tools=\"pan,box_zoom,lasso_select,wheel_zoom,previewsave,reset\")\n",
    "st_viz.add_map_tile('CARTODBPOSITRON')\n",
    "\n",
    "st_viz.add_numerical_colormap('Viridis256', 'count', colorbar=True, cb_orientation='vertical', cb_location='right', label_standoff=12, border_line_color=None, location=(0,0), nan_color=bokeh_colors.RGB(1,1,1,0))\n",
    "st_viz.add_polygon(fill_color=st_viz.cmap, line_color=st_viz.cmap, fill_alpha=0.6, muted_alpha=0, legend_label=f'GPS Locations (Choropleth)')"
   ]
  },
  {
   "cell_type": "markdown",
   "metadata": {},
   "source": [
    "### Create a VISIONS instance for keeping (& filtering) the original data"
   ]
  },
  {
   "cell_type": "code",
   "execution_count": null,
   "metadata": {},
   "outputs": [],
   "source": [
    "data_points = st_visualizer(limit=len(gdf))\n",
    "data_points.set_data(gdf)\n",
    "data_points.set_figure(st_viz.figure)\n",
    "\n",
    "\n",
    "categorical_name='label'\n",
    "\n",
    "class Callback(callbacks.BokehFilters):\n",
    "    def __init__(self, vsn_instance, widget):\n",
    "        super().__init__(vsn_instance, widget)\n",
    "        \n",
    "        \n",
    "    def callback_prepare_data(self, new_pts, ready_for_output):\n",
    "        self.vsn_instance.canvas_data = new_pts\n",
    "\n",
    "        if ready_for_output:\n",
    "            cnt = viz_helper.classify_area_proximity(self.vsn_instance.canvas_data, st_viz.data, compensate=True, verbose=True).area_id.value_counts()            \n",
    "            st_viz.canvas_data = st_viz.data.loc[cnt.index].copy()\n",
    "            st_viz.canvas_data.loc[:, 'count'] = cnt.values               \n",
    "           \n",
    "            st_viz.canvas_data = st_viz.prepare_data(st_viz.canvas_data)\n",
    "\n",
    "            low, high = st_viz.canvas_data[st_viz.cmap['field']].agg([np.min, np.max])\n",
    "            st_viz.cmap['transform'].low = 0 if low == high else low\n",
    "            st_viz.cmap['transform'].high = high\n",
    "                    \n",
    "            st_viz.source.data = st_viz.canvas_data.drop(st_viz.canvas_data.geometry.name, axis=1).to_dict(orient=\"list\")\n",
    "\n",
    "            # print ('Releasing Lock...')\n",
    "            st_viz.canvas_data = None\n",
    "            self.vsn_instance.canvas_data = None\n",
    "            self.vsn_instance.aquire_canvas_data = None\n",
    "        \n",
    "        \n",
    "    def callback(self, attr, old, new):\n",
    "        self.callback_filter_data()\n",
    "\n",
    "        cat_value = self.widget.value\n",
    "        new_pts = self.get_data()\n",
    "\n",
    "        # print (cat_value, categorical_name)\n",
    "        if cat_value:\n",
    "            new_pts = new_pts.loc[new_pts[categorical_name] == cat_value].copy()\n",
    "\n",
    "        self.callback_prepare_data(new_pts, self.widget.id==self.vsn_instance.aquire_canvas_data)\n",
    "\n",
    "        \n",
    "data_points.add_categorical_filter(title='Vehicle', categorical_name=categorical_name, height_policy='min', callback_class=Callback)"
   ]
  },
  {
   "cell_type": "markdown",
   "metadata": {},
   "source": [
    "### Camera, Lights, Action"
   ]
  },
  {
   "cell_type": "code",
   "execution_count": null,
   "metadata": {},
   "outputs": [],
   "source": [
    "data_points.figure.legend.location = \"top_left\"\n",
    "data_points.figure.legend.click_policy = \"mute\"\n",
    "data_points.figure.toolbar.active_scroll = data_points.figure.select_one(bkhm.WheelZoomTool)"
   ]
  },
  {
   "cell_type": "code",
   "execution_count": null,
   "metadata": {},
   "outputs": [],
   "source": [
    "data_points.show_figures(notebook=True, notebook_url=NOTEBOOK_URL)"
   ]
  },
  {
   "cell_type": "code",
   "execution_count": null,
   "metadata": {},
   "outputs": [],
   "source": []
  },
  {
   "cell_type": "markdown",
   "metadata": {},
   "source": [
    "# Plot Multiple Datasets at the Same Canvas"
   ]
  },
  {
   "cell_type": "code",
   "execution_count": null,
   "metadata": {},
   "outputs": [],
   "source": [
    "df = pd.read_csv('./data/csv/ais_brest_jan_24.csv')\n",
    "df.loc[:, 'datetime'] = pd.to_datetime(df.timestamp, unit='ms')\n",
    "\n",
    "df_algn_inter = pd.read_csv('./data/csv/kafka_aligned_data_inter_dataset_ais_brest_jan_24.csv')\n",
    "df_algn_inter.loc[:, 'datetime'] = pd.to_datetime(df_algn_inter.timestamp, unit='s')"
   ]
  },
  {
   "cell_type": "code",
   "execution_count": null,
   "metadata": {},
   "outputs": [],
   "source": [
    "st_viz = st_visualizer(limit=len(df))\n",
    "st_viz.set_data(df, sp_columns=['lon', 'lat'])\n",
    "\n",
    "st_viz.create_canvas(title=f'Prototype Plot', sizing_mode='scale_width', plot_height=540, plot_width=540, tools=\"pan,box_zoom,lasso_select,wheel_zoom,previewsave,reset\")\n",
    "st_viz.add_map_tile('CARTODBPOSITRON')\n",
    "\n",
    "st_viz.add_glyph(glyph_type='circle', size=10, color='royalblue', alpha=0.5, fill_alpha=0.5, muted_alpha=0, legend_label=f'GPS Locations')\n",
    "st_viz.add_hover_tooltips(tooltips = [('MMSI','@mmsi'), ('Datetime','@datetime{%Y-%m-%d %H:%M:%S.%3N}'), ('Coordinates','(@lon, @lat)')], formatters={'@datetime': 'datetime'}, renderers=st_viz.renderers)"
   ]
  },
  {
   "cell_type": "code",
   "execution_count": null,
   "metadata": {},
   "outputs": [],
   "source": [
    "st_viz2 = st_visualizer(limit=len(df_algn_inter))\n",
    "st_viz2.set_data(df_algn_inter, sp_columns=['lon', 'lat'])\n",
    "\n",
    "st_viz2.set_figure(st_viz.figure)\n",
    "st_viz2.create_source()\n",
    "\n",
    "st_viz2.add_glyph(glyph_type='square', size=10, color='orangered', alpha=0.5, fill_alpha=0.5, muted_alpha=0, legend_label=f'GPS Locations (interpolated - Kafka)')\n",
    "st_viz2.add_hover_tooltips(tooltips = [('MMSI','@mmsi'), ('Datetime','@datetime{%Y-%m-%d %H:%M:%S.%3N}'), ('Coordinates','(@lon, @lat)')], formatters={'@datetime': 'datetime'}, renderers=st_viz2.renderers)"
   ]
  },
  {
   "cell_type": "code",
   "execution_count": null,
   "metadata": {},
   "outputs": [],
   "source": [
    "df_traj = viz_helper.create_linestring_from_points(viz_helper.getGeoDataFrame_v2(df.copy()), ['mmsi'])\n",
    "\n",
    "st_viz3 = st_visualizer(limit=len(df_traj))\n",
    "st_viz3.set_data(df_traj, sp_columns=['lon', 'lat'])\n",
    "\n",
    "st_viz3.set_figure(st_viz2.figure)\n",
    "st_viz3.create_source()\n",
    "\n",
    "st_viz3.add_line(line_type='multi_line', line_width=5, line_color='limegreen', alpha=0.5, muted_alpha=0, legend_label=f'Vessel Trajectories')"
   ]
  },
  {
   "cell_type": "code",
   "execution_count": null,
   "metadata": {},
   "outputs": [],
   "source": [
    "st_viz3.figure.legend.location = \"top_left\"\n",
    "st_viz3.figure.legend.click_policy = \"mute\"\n",
    "st_viz3.figure.toolbar.active_scroll = st_viz3.figure.select_one(bkhm.WheelZoomTool)\n",
    "st_viz3.show_figures(notebook=True, notebook_url=NOTEBOOK_URL)"
   ]
  },
  {
   "cell_type": "markdown",
   "metadata": {},
   "source": [
    "# Plot Multiple Datasets at Grid"
   ]
  },
  {
   "cell_type": "code",
   "execution_count": 58,
   "metadata": {},
   "outputs": [],
   "source": [
    "df = pd.read_csv('./data/csv/ais_brest_jan_24.csv')\n",
    "df.loc[:, 'datetime'] = pd.to_datetime(df.ts, unit='s')\n",
    "\n",
    "df_algn_inter = pd.read_csv('./data/csv/kafka_aligned_data_inter_dataset_ais_brest_jan_24.csv')\n",
    "df_algn_inter.loc[:, 'datetime'] = pd.to_datetime(df_algn_inter.ts, unit='s')"
   ]
  },
  {
   "cell_type": "code",
   "execution_count": 72,
   "metadata": {},
   "outputs": [],
   "source": [
    "st_viz = st_visualizer(limit=1000)\n",
    "st_viz.set_data(df)\n",
    "\n",
    "tooltips = [('MMSI','@mmsi'), ('Datetime','@datetime'), ('Coordinates','(@lon, @lat)')]\n",
    "viz_express.plot_points_on_map(st_viz, tools=['lasso_select'], tooltips=tooltips)"
   ]
  },
  {
   "cell_type": "code",
   "execution_count": 73,
   "metadata": {},
   "outputs": [],
   "source": [
    "st_viz2 = st_visualizer(limit=500)\n",
    "st_viz2.set_data(df_algn_inter)\n",
    "\n",
    "tooltips = [('MMSI','@mmsi'), ('Datetime','@datetime'), ('Coordinates','(@lon, @lat)')]\n",
    "viz_express.plot_points_on_map(st_viz2, tools=['lasso_select'], tooltips=tooltips, glyph_type='triangle', color='red')"
   ]
  },
  {
   "cell_type": "code",
   "execution_count": 74,
   "metadata": {},
   "outputs": [],
   "source": [
    "st_viz2.figure.legend.location = \"top_left\"\n",
    "st_viz2.figure.legend.click_policy = \"mute\"\n",
    "st_viz2.figure.toolbar.active_scroll = st_viz2.figure.select_one(bkhm.WheelZoomTool)"
   ]
  },
  {
   "cell_type": "code",
   "execution_count": null,
   "metadata": {},
   "outputs": [],
   "source": [
    "st_viz2.show_figures([[st_viz.figure, st_viz2.figure]], notebook=True, merge_tools=True, toolbar_location='right', notebook_url=NOTEBOOK_URL)"
   ]
  },
  {
   "cell_type": "markdown",
   "metadata": {},
   "source": [
    "# Visualize Data with Map alongside DataFrame"
   ]
  },
  {
   "cell_type": "code",
   "execution_count": null,
   "metadata": {},
   "outputs": [],
   "source": [
    "df = pd.read_csv('./data/csv/ais_brest_jan_24.csv')\n",
    "\n",
    "\n",
    "st_viz = st_visualizer(limit=10000)\n",
    "st_viz.set_data(df)\n",
    "\n",
    "\n",
    "tooltips = [('Vessel ID','@mmsi'), ('Timestamp','@ts'), ('Speed (knots)','@speed'),\n",
    "            ('Course over Ground (degrees)','@course'), ('Heading (degrees)','@heading'), ('Coordinates','(@lon, @lat)')]\n",
    "\n",
    "st_viz.create_canvas(title=f'Prototype Plot', sizing_mode='stretch_both', plot_height=540, tools=\"pan,box_zoom,lasso_select,wheel_zoom,previewsave,reset\", tooltips=tooltips)\n",
    "st_viz.add_map_tile('CARTODBPOSITRON')\n",
    "\n",
    "st_viz.add_glyph(fill_alpha=0.6, muted_alpha=0, legend_label=f'GPS Locations (Choropleth Map)')\n",
    "\n",
    "\n",
    "columns = [\n",
    "        bkhm.TableColumn(field=\"mmsi\", title=\"MMSI\"),\n",
    "        bkhm.TableColumn(field=\"status\", title=\"Status\"),\n",
    "        bkhm.TableColumn(field=\"turn\", title=\"Turn\"),\n",
    "        bkhm.TableColumn(field=\"speed\", title=\"Speed\"),\n",
    "        bkhm.TableColumn(field=\"heading\", title=\"Heading\"),\n",
    "        bkhm.TableColumn(field=\"lon\", title=\"Longitude\"),\n",
    "        bkhm.TableColumn(field=\"lat\", title=\"Latitude\"),\n",
    "        bkhm.TableColumn(field=\"ts\", title=\"Timestamp\"),\n",
    "        bkhm.TableColumn(field=\"velocity\", title=\"Velocity\"),\n",
    "        bkhm.TableColumn(field=\"course_over_ground\", title=\"COG\")\n",
    "        ]\n",
    "data_table = bkhm.DataTable(source=st_viz.source, columns=columns, width=400, height=280)\n",
    "\n",
    "\n",
    "st_viz.show_figures([[st_viz.figure, data_table]], plot_width=1900, sizing_mode='stretch_both', notebook=True, notebook_url=NOTEBOOK_URL)"
   ]
  },
  {
   "cell_type": "code",
   "execution_count": null,
   "metadata": {},
   "outputs": [],
   "source": []
  }
 ],
 "metadata": {
  "kernelspec": {
   "display_name": "Python (MDA)",
   "language": "python",
   "name": "mda"
  },
  "language_info": {
   "codemirror_mode": {
    "name": "ipython",
    "version": 3
   },
   "file_extension": ".py",
   "mimetype": "text/x-python",
   "name": "python",
   "nbconvert_exporter": "python",
   "pygments_lexer": "ipython3",
   "version": "3.7.6"
  }
 },
 "nbformat": 4,
 "nbformat_minor": 4
}